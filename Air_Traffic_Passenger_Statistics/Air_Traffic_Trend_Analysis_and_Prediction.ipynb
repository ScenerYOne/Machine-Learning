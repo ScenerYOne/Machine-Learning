{
 "cells": [
  {
   "metadata": {
    "id": "564d33d6001adca7"
   },
   "cell_type": "markdown",
   "source": [
    "## Air Traffic Trend Analysis and  Prediction\n"
   ],
   "id": "564d33d6001adca7"
  },
  {
   "metadata": {
    "id": "25d123d515ebf3ba"
   },
   "cell_type": "markdown",
   "source": [
    "### ปัญหาหลักของการวิเคราะห์ปริมาณผู้โดยสารทางอากาศ\n",
    "\n",
    "1. การเติบโตที่ไม่แน่นอน: การคาดการณ์ปริมาณผู้โดยสารทางอากาศเป็นเรื่องที่ท้าทายเนื่องจากปัจจัยหลายประการ เช่น เศรษฐกิจโลก การระบาดของโรค หรือปัจจัยเชิงสังคม\n",
    "2. ความต้องการที่เปลี่ยนแปลงอย่างรวดเร็ว: การคาดการณ์ที่ไม่ถูกต้องอาจนำไปสู่การจัดการทรัพยากรที่ไม่เพียงพอ หรือมากเกินไป ส่งผลกระทบต่อทั้งผู้โดยสารและสายการบิน\n",
    "3. ความจำเป็นในการวางแผนล่วงหน้า: สนามบินและสายการบินต้องการข้อมูลที่แม่นยำเพื่อวางแผนการขยายตัวและการบริการ เพื่อรองรับปริมาณผู้โดยสารในอนาคต\n",
    "4. ผลกระทบต่อสิ่งแวดล้อม: การบริหารจัดการทรัพยากรที่ไม่ดีอาจเพิ่มการใช้พลังงานและการปล่อยก๊าซเรือนกระจกอย่างไม่จำเป็น"
   ],
   "id": "25d123d515ebf3ba"
  },
  {
   "metadata": {
    "id": "18d50bfd5d888444"
   },
   "cell_type": "markdown",
   "source": [
    "### Machine Learning สามารถช่วยแก้ปัญหาเหล่านี้ได้ดังนี้\n",
    "1. การวิเคราะห์แนวโน้มที่แม่นยำ: ML ช่วยวิเคราะห์ข้อมูลการเดินทางทางอากาศย้อนหลัง และสามารถตรวจจับแนวโน้มการเปลี่ยนแปลงในอนาคตได้อย่างแม่นยำ\n",
    "2. ทำนายปริมาณผู้โดยสาร: โมเดล ML สามารถทำนายจำนวนผู้โดยสารในอนาคต ซึ่งช่วยในการวางแผนทรัพยากรและการให้บริการที่เหมาะสม\n",
    "3. การปรับตัวตามสภาพตลาด: โมเดลสามารถเรียนรู้จากข้อมูลปัจจัยภายนอก เช่น การเปลี่ยนแปลงทางเศรษฐกิจหรือเหตุการณ์สำคัญ ทำให้การคาดการณ์สามารถปรับตัวให้เข้ากับสถานการณ์ได้\n",
    "4. การลดผลกระทบต่อสิ่งแวดล้อม: การจัดการปริมาณผู้โดยสารที่มีประสิทธิภาพสามารถลดการใช้พลังงานและผลกระทบต่อสิ่งแวดล้อม"
   ],
   "id": "18d50bfd5d888444"
  },
  {
   "metadata": {
    "id": "4028301687961b"
   },
   "cell_type": "markdown",
   "source": [
    "###  Task, Experience, And Performance Measurement (T/E/P)\n",
    "1.\tTask (T): การทำนายปริมาณผู้โดยสารทางอากาศในอนาคตจากข้อมูลการเดินทางที่ผ่านมา\n",
    "2. Experience (E): ชุดข้อมูลปริมาณผู้โดยสารทางอากาศย้อนหลัง ซึ่งรวมถึงจำนวนผู้โดยสารในแต่ละเดือน/ปี สถานที่เดินทาง ปัจจัยทางเศรษฐกิจ และปัจจัยภายนอกที่มีผลกระทบต่อปริมาณผู้โดยสาร\n",
    "3. Performance Measurement (P): วัดประสิทธิภาพของโมเดลโดยใช้ค่าความคลาดเคลื่อน เช่น Mean Absolute Error (MAE), Mean Squared Error (MSE), Root Mean Squared Error (RMSE), และค่า R-squared (R²)"
   ],
   "id": "4028301687961b"
  },
  {
   "metadata": {
    "id": "69d0cf3f2c43d2ce"
   },
   "cell_type": "markdown",
   "source": [
    "### Dataset source: [Air Traffic Passenger Statistics Dataset]\n",
    "[Air Traffic Passenger Statistics Dataset]: https://www.kaggle.com/datasets/nileshthonte/air-traffic-passenger-statistics\n",
    "#### Attribute Information\n",
    "\n",
    "1. Date: วันที่ที่บันทึกข้อมูลการเดินทาง\n",
    "2. Airport Name: ชื่อสนามบินที่เกี่ยวข้องกับการเดินทาง\n",
    "3. City: ชื่อเมืองที่สนามบินตั้งอยู่\n",
    "4. State: รัฐที่สนามบินตั้งอยู่\n",
    "5. Country: ประเทศที่สนามบินตั้งอยู่\n",
    "6. Passenger Count: จำนวนผู้โดยสารที่เดินทางผ่านสนามบินในช่วงเวลานั้น\n",
    "7. Aircraft Movements: จำนวนเที่ยวบินที่มาถึงและออกจากสนามบิน\n",
    "8. Freight (Tons): ปริมาณสินค้าที่ถูกขนส่งผ่านสนามบิน (ในหน่วยตัน)\n",
    "9. Mail (Tons): ปริมาณจดหมายหรือพัสดุที่ถูกขนส่งผ่านสนามบิน (ในหน่วยตัน)\n",
    "10. Service Type: ประเภทของบริการการบิน (เช่น ผู้โดยสาร, สินค้า)\n",
    "11. Time Period: ช่วงเวลาของข้อมูล เช่น รายเดือนหรือรายปี"
   ],
   "id": "69d0cf3f2c43d2ce"
  },
  {
   "metadata": {
    "id": "8227ca13fc377350"
   },
   "cell_type": "markdown",
   "source": [
    "### Data Preprocessing\n",
    "\n"
   ],
   "id": "8227ca13fc377350"
  },
  {
   "metadata": {
    "id": "ea3dc35f705160b8"
   },
   "cell_type": "markdown",
   "source": [
    "#### 1. Import Libraries"
   ],
   "id": "ea3dc35f705160b8"
  },
  {
   "metadata": {
    "id": "aa0bf8000661c5d7",
    "ExecuteTime": {
     "end_time": "2024-09-13T19:34:52.097098Z",
     "start_time": "2024-09-13T19:34:52.093190Z"
    }
   },
   "cell_type": "code",
   "source": [
    "# Import Libraries\n",
    "import pandas as pd\n",
    "import numpy as np\n",
    "import matplotlib.pyplot as plt\n",
    "import seaborn as sns\n",
    "from sklearn.preprocessing import StandardScaler\n",
    "from sklearn.preprocessing import MinMaxScaler"
   ],
   "id": "aa0bf8000661c5d7",
   "outputs": [],
   "execution_count": 72
  },
  {
   "metadata": {
    "id": "c56182b03e21b2b",
    "ExecuteTime": {
     "end_time": "2024-09-13T19:34:52.138205Z",
     "start_time": "2024-09-13T19:34:52.110424Z"
    }
   },
   "cell_type": "code",
   "source": [
    "# Load Dataset\n",
    "df = pd.read_csv('/Air_Traffic_Passenger_Statistics/Air_Traffic_Passenger_Statistics.csv')"
   ],
   "id": "c56182b03e21b2b",
   "outputs": [],
   "execution_count": 73
  },
  {
   "metadata": {
    "colab": {
     "base_uri": "https://localhost:8080/"
    },
    "id": "3e18e8e9daf681e0",
    "outputId": "79adb242-a96f-40ca-b3f1-150dec23c089",
    "ExecuteTime": {
     "end_time": "2024-09-13T19:34:52.227021Z",
     "start_time": "2024-09-13T19:34:52.219186Z"
    }
   },
   "cell_type": "code",
   "source": [
    "# Preview dataset\n",
    "print(df.head())"
   ],
   "id": "3e18e8e9daf681e0",
   "outputs": [
    {
     "name": "stdout",
     "output_type": "stream",
     "text": [
      "   Activity Period Operating Airline Operating Airline IATA Code  \\\n",
      "0           200507      ATA Airlines                          TZ   \n",
      "1           200507      ATA Airlines                          TZ   \n",
      "2           200507      ATA Airlines                          TZ   \n",
      "3           200507       Air Canada                           AC   \n",
      "4           200507       Air Canada                           AC   \n",
      "\n",
      "  Published Airline Published Airline IATA Code    GEO Summary GEO Region  \\\n",
      "0      ATA Airlines                          TZ       Domestic         US   \n",
      "1      ATA Airlines                          TZ       Domestic         US   \n",
      "2      ATA Airlines                          TZ       Domestic         US   \n",
      "3       Air Canada                           AC  International     Canada   \n",
      "4       Air Canada                           AC  International     Canada   \n",
      "\n",
      "  Activity Type Code Price Category Code    Terminal Boarding Area  \\\n",
      "0           Deplaned            Low Fare  Terminal 1             B   \n",
      "1           Enplaned            Low Fare  Terminal 1             B   \n",
      "2     Thru / Transit            Low Fare  Terminal 1             B   \n",
      "3           Deplaned               Other  Terminal 1             B   \n",
      "4           Enplaned               Other  Terminal 1             B   \n",
      "\n",
      "   Passenger Count Adjusted Activity Type Code  Adjusted Passenger Count  \\\n",
      "0            27271                    Deplaned                     27271   \n",
      "1            29131                    Enplaned                     29131   \n",
      "2             5415          Thru / Transit * 2                     10830   \n",
      "3            35156                    Deplaned                     35156   \n",
      "4            34090                    Enplaned                     34090   \n",
      "\n",
      "   Year Month  \n",
      "0  2005  July  \n",
      "1  2005  July  \n",
      "2  2005  July  \n",
      "3  2005  July  \n",
      "4  2005  July  \n"
     ]
    }
   ],
   "execution_count": 74
  },
  {
   "metadata": {
    "colab": {
     "base_uri": "https://localhost:8080/"
    },
    "id": "6869c5599f04b999",
    "outputId": "a5544c71-a12f-4a7d-bf54-34983f8df3de",
    "ExecuteTime": {
     "end_time": "2024-09-13T19:34:52.332589Z",
     "start_time": "2024-09-13T19:34:52.317678Z"
    }
   },
   "cell_type": "code",
   "source": [
    "# Check information about the dataset\n",
    "print(df.info())"
   ],
   "id": "6869c5599f04b999",
   "outputs": [
    {
     "name": "stdout",
     "output_type": "stream",
     "text": [
      "<class 'pandas.core.frame.DataFrame'>\n",
      "RangeIndex: 15007 entries, 0 to 15006\n",
      "Data columns (total 16 columns):\n",
      " #   Column                       Non-Null Count  Dtype \n",
      "---  ------                       --------------  ----- \n",
      " 0   Activity Period              15007 non-null  int64 \n",
      " 1   Operating Airline            15007 non-null  object\n",
      " 2   Operating Airline IATA Code  14953 non-null  object\n",
      " 3   Published Airline            15007 non-null  object\n",
      " 4   Published Airline IATA Code  14953 non-null  object\n",
      " 5   GEO Summary                  15007 non-null  object\n",
      " 6   GEO Region                   15007 non-null  object\n",
      " 7   Activity Type Code           15007 non-null  object\n",
      " 8   Price Category Code          15007 non-null  object\n",
      " 9   Terminal                     15007 non-null  object\n",
      " 10  Boarding Area                15007 non-null  object\n",
      " 11  Passenger Count              15007 non-null  int64 \n",
      " 12  Adjusted Activity Type Code  15007 non-null  object\n",
      " 13  Adjusted Passenger Count     15007 non-null  int64 \n",
      " 14  Year                         15007 non-null  int64 \n",
      " 15  Month                        15007 non-null  object\n",
      "dtypes: int64(4), object(12)\n",
      "memory usage: 1.8+ MB\n",
      "None\n"
     ]
    }
   ],
   "execution_count": 75
  },
  {
   "metadata": {
    "colab": {
     "base_uri": "https://localhost:8080/"
    },
    "id": "93a41e0b388428b",
    "outputId": "2dfc251c-84a3-481b-aa67-d032f6bab846",
    "ExecuteTime": {
     "end_time": "2024-09-13T19:34:52.440941Z",
     "start_time": "2024-09-13T19:34:52.423563Z"
    }
   },
   "cell_type": "code",
   "source": [
    "# Summary statistics of the dataset\n",
    "print(df.describe())\n"
   ],
   "id": "93a41e0b388428b",
   "outputs": [
    {
     "name": "stdout",
     "output_type": "stream",
     "text": [
      "       Activity Period  Passenger Count  Adjusted Passenger Count  \\\n",
      "count     15007.000000     15007.000000              15007.000000   \n",
      "mean     201045.073366     29240.521090              29331.917105   \n",
      "std         313.336196     58319.509284              58284.182219   \n",
      "min      200507.000000         1.000000                  1.000000   \n",
      "25%      200803.000000      5373.500000               5495.500000   \n",
      "50%      201011.000000      9210.000000               9354.000000   \n",
      "75%      201308.000000     21158.500000              21182.000000   \n",
      "max      201603.000000    659837.000000             659837.000000   \n",
      "\n",
      "               Year  \n",
      "count  15007.000000  \n",
      "mean    2010.385220  \n",
      "std        3.137589  \n",
      "min     2005.000000  \n",
      "25%     2008.000000  \n",
      "50%     2010.000000  \n",
      "75%     2013.000000  \n",
      "max     2016.000000  \n"
     ]
    }
   ],
   "execution_count": 76
  },
  {
   "metadata": {
    "colab": {
     "base_uri": "https://localhost:8080/"
    },
    "id": "fe5d6f62f5ce71fe",
    "outputId": "8f526607-8dfb-4d0c-cdd4-ff465a2b052e",
    "ExecuteTime": {
     "end_time": "2024-09-13T19:34:52.552119Z",
     "start_time": "2024-09-13T19:34:52.542475Z"
    }
   },
   "cell_type": "code",
   "source": [
    "# Check for missing values\n",
    "print(\"Missing values in each column:\\n\", df.isnull().sum())\n"
   ],
   "id": "fe5d6f62f5ce71fe",
   "outputs": [
    {
     "name": "stdout",
     "output_type": "stream",
     "text": [
      "Missing values in each column:\n",
      " Activity Period                 0\n",
      "Operating Airline               0\n",
      "Operating Airline IATA Code    54\n",
      "Published Airline               0\n",
      "Published Airline IATA Code    54\n",
      "GEO Summary                     0\n",
      "GEO Region                      0\n",
      "Activity Type Code              0\n",
      "Price Category Code             0\n",
      "Terminal                        0\n",
      "Boarding Area                   0\n",
      "Passenger Count                 0\n",
      "Adjusted Activity Type Code     0\n",
      "Adjusted Passenger Count        0\n",
      "Year                            0\n",
      "Month                           0\n",
      "dtype: int64\n"
     ]
    }
   ],
   "execution_count": 77
  },
  {
   "metadata": {
    "colab": {
     "base_uri": "https://localhost:8080/"
    },
    "id": "9c6dc620f67f6bae",
    "outputId": "687a7dbd-eb48-448a-d324-0a1e2bbb8064",
    "ExecuteTime": {
     "end_time": "2024-09-13T19:34:52.670733Z",
     "start_time": "2024-09-13T19:34:52.640479Z"
    }
   },
   "cell_type": "code",
   "source": [
    "# Separate numeric and categorical columns\n",
    "numeric_columns = df.select_dtypes(include=[np.number]).columns\n",
    "categorical_columns = df.select_dtypes(include=[object]).columns\n",
    "\n",
    "# Fill missing values for numeric columns with mean\n",
    "df[numeric_columns] = df[numeric_columns].fillna(df[numeric_columns].mean())\n",
    "\n",
    "# Fill missing values for categorical columns with mode (most frequent value)\n",
    "for column in categorical_columns:\n",
    "    df.fillna({column: df[column].mode()[0]}, inplace=True)\n",
    "\n",
    "# Check for missing values after filling\n",
    "print(\"Missing values after filling:\\n\", df.isnull().sum())"
   ],
   "id": "9c6dc620f67f6bae",
   "outputs": [
    {
     "name": "stdout",
     "output_type": "stream",
     "text": [
      "Missing values after filling:\n",
      " Activity Period                0\n",
      "Operating Airline              0\n",
      "Operating Airline IATA Code    0\n",
      "Published Airline              0\n",
      "Published Airline IATA Code    0\n",
      "GEO Summary                    0\n",
      "GEO Region                     0\n",
      "Activity Type Code             0\n",
      "Price Category Code            0\n",
      "Terminal                       0\n",
      "Boarding Area                  0\n",
      "Passenger Count                0\n",
      "Adjusted Activity Type Code    0\n",
      "Adjusted Passenger Count       0\n",
      "Year                           0\n",
      "Month                          0\n",
      "dtype: int64\n"
     ]
    }
   ],
   "execution_count": 78
  },
  {
   "metadata": {
    "id": "c2a1f000950c37d6",
    "ExecuteTime": {
     "end_time": "2024-09-13T19:34:52.858187Z",
     "start_time": "2024-09-13T19:34:52.840205Z"
    }
   },
   "cell_type": "code",
   "source": [
    "# ฟังก์ชันสำหรับการลบ outliers โดยใช้ IQR\n",
    "def remove_outliers_iqr(df, columns):\n",
    "    Q1 = df[columns].quantile(0.25)\n",
    "    Q3 = df[columns].quantile(0.75)\n",
    "    IQR = Q3 - Q1\n",
    "\n",
    "    lower_bound = Q1 - 1.5 * IQR\n",
    "    upper_bound = Q3 + 1.5 * IQR\n",
    "\n",
    "    df_clean = df[~((df[columns] < lower_bound) | (df[columns] > upper_bound)).any(axis=1)]\n",
    "    return df_clean\n",
    "\n",
    "# ลบ outliers สำหรับฟีเจอร์ 'Passenger Count'\n",
    "df_clean = remove_outliers_iqr(df, ['Passenger Count'])\n",
    "\n",
    "# แบ่งข้อมูลใหม่หลังจากลบ outliers\n",
    "X = df_clean.drop(columns=['Passenger Count'])\n",
    "y = df_clean['Passenger Count']\n",
    "\n",
    "# Import the required function\n",
    "from sklearn.model_selection import train_test_split\n",
    "\n",
    "# แบ่งข้อมูลใหม่เป็นชุดฝึกและชุดทดสอบ\n",
    "X_train, X_test, y_train, y_test = train_test_split(X, y, test_size=0.2, random_state=42)"
   ],
   "id": "c2a1f000950c37d6",
   "outputs": [],
   "execution_count": 79
  },
  {
   "metadata": {
    "colab": {
     "base_uri": "https://localhost:8080/",
     "height": 1000
    },
    "id": "d26e1da1d7fbd94c",
    "outputId": "b85155fc-a80c-43ee-8dcf-c67879105d12",
    "ExecuteTime": {
     "end_time": "2024-09-13T19:34:53.537856Z",
     "start_time": "2024-09-13T19:34:52.862021Z"
    }
   },
   "cell_type": "code",
   "source": [
    "# Plot boxplots to visualize the outliers\n",
    "num_cols = len(numeric_columns) # Changed 'numerical_columns' to 'numeric_columns'\n",
    "fig, axes = plt.subplots(nrows=2, ncols=2, figsize=(15, 10))\n",
    "\n",
    "# Flatten axes for easy iteration\n",
    "axes = axes.flatten()\n",
    "\n",
    "for i, col in enumerate(numeric_columns): # Changed 'numerical_columns' to 'numeric_columns'\n",
    "    sns.boxplot(data=df_clean[col], ax=axes[i])\n",
    "    axes[i].set_title(f'Boxplot of {col}')\n",
    "    axes[i].set_xlabel(col)\n",
    "    axes[i].set_ylabel(\"Values\")\n",
    "\n",
    "# Hide any empty subplots if the number of plots is less than the grid size\n",
    "for j in range(i + 1, len(axes)):\n",
    "    axes[j].axis('off')\n",
    "\n",
    "# Display the plots\n",
    "plt.tight_layout()\n",
    "plt.show()\n",
    "\n",
    "# Display first few rows of the cleaned/adjusted data\n",
    "print(df_clean.head())"
   ],
   "id": "d26e1da1d7fbd94c",
   "outputs": [
    {
     "data": {
      "text/plain": [
       "<Figure size 1500x1000 with 4 Axes>"
      ],
      "image/png": "[encoded data removed]"
     },
     "metadata": {},
     "output_type": "display_data"
    },
    {
     "name": "stdout",
     "output_type": "stream",
     "text": [
      "   Activity Period Operating Airline Operating Airline IATA Code  \\\n",
      "0           200507      ATA Airlines                          TZ   \n",
      "1           200507      ATA Airlines                          TZ   \n",
      "2           200507      ATA Airlines                          TZ   \n",
      "3           200507       Air Canada                           AC   \n",
      "4           200507       Air Canada                           AC   \n",
      "\n",
      "  Published Airline Published Airline IATA Code    GEO Summary GEO Region  \\\n",
      "0      ATA Airlines                          TZ       Domestic         US   \n",
      "1      ATA Airlines                          TZ       Domestic         US   \n",
      "2      ATA Airlines                          TZ       Domestic         US   \n",
      "3       Air Canada                           AC  International     Canada   \n",
      "4       Air Canada                           AC  International     Canada   \n",
      "\n",
      "  Activity Type Code Price Category Code    Terminal Boarding Area  \\\n",
      "0           Deplaned            Low Fare  Terminal 1             B   \n",
      "1           Enplaned            Low Fare  Terminal 1             B   \n",
      "2     Thru / Transit            Low Fare  Terminal 1             B   \n",
      "3           Deplaned               Other  Terminal 1             B   \n",
      "4           Enplaned               Other  Terminal 1             B   \n",
      "\n",
      "   Passenger Count Adjusted Activity Type Code  Adjusted Passenger Count  \\\n",
      "0            27271                    Deplaned                     27271   \n",
      "1            29131                    Enplaned                     29131   \n",
      "2             5415          Thru / Transit * 2                     10830   \n",
      "3            35156                    Deplaned                     35156   \n",
      "4            34090                    Enplaned                     34090   \n",
      "\n",
      "   Year Month  \n",
      "0  2005  July  \n",
      "1  2005  July  \n",
      "2  2005  July  \n",
      "3  2005  July  \n",
      "4  2005  July  \n"
     ]
    }
   ],
   "execution_count": 80
  },
  {
   "cell_type": "code",
   "source": [
    "import pandas as pd\n",
    "from sklearn.model_selection import train_test_split\n",
    "from sklearn.preprocessing import StandardScaler\n",
    "\n",
    "# 1. โหลดข้อมูล\n",
    "df = pd.read_csv('/Air_Traffic_Passenger_Statistics/Air_Traffic_Passenger_Statistics.csv')\n",
    "\n",
    "# 2. สร้างฟีเจอร์ใหม่จาก 'Activity Period'\n",
    "df['Activity Period'] = pd.to_datetime(df['Activity Period'], format='%Y%m')\n",
    "df['Year'] = df['Activity Period'].dt.year\n",
    "df['Month'] = df['Activity Period'].dt.month\n",
    "\n",
    "# 3. การจัดการกับค่าที่ขาดหาย\n",
    "# แทนที่ค่าที่เป็น NaN ในคอลัมน์เชิงประเภทด้วยค่าที่พบบ่อยที่สุด (mode)\n",
    "categorical_columns = df.select_dtypes(include=['object']).columns\n",
    "df[categorical_columns] = df[categorical_columns].fillna(df[categorical_columns].mode().iloc[0])\n",
    "\n",
    "# แทนที่ค่า NaN ในคอลัมน์ตัวเลขด้วยค่าเฉลี่ย (mean)\n",
    "numeric_columns = df.select_dtypes(include=['number']).columns\n",
    "df[numeric_columns] = df[numeric_columns].fillna(df[numeric_columns].mean())\n",
    "\n",
    "df['Month'] = df['Activity Period'].dt.month\n"
   ],
   "metadata": {
    "id": "47rsOjV366mL",
    "ExecuteTime": {
     "end_time": "2024-09-13T19:34:53.746987Z",
     "start_time": "2024-09-13T19:34:53.694027Z"
    }
   },
   "id": "47rsOjV366mL",
   "outputs": [],
   "execution_count": 81
  },
  {
   "metadata": {
    "id": "3a0cb61abb75affe"
   },
   "cell_type": "markdown",
   "source": [
    "### การ Normalize ข้อมูลด้วย StandardScaler"
   ],
   "id": "3a0cb61abb75affe"
  },
  {
   "metadata": {
    "colab": {
     "base_uri": "https://localhost:8080/"
    },
    "id": "3742ae2993356e6",
    "outputId": "e4d10e2c-d963-46f7-a25b-6ba473779936",
    "ExecuteTime": {
     "end_time": "2024-09-13T19:34:53.768951Z",
     "start_time": "2024-09-13T19:34:53.751433Z"
    }
   },
   "cell_type": "code",
   "source": [
    "# 5. ทำ Normalization ด้วย MinMaxScaler\n",
    "scaler = MinMaxScaler()\n",
    "\n",
    "# เลือกคอลัมน์ตัวเลขที่ต้องการทำ Normalization\n",
    "scaled_columns = ['Passenger Count', 'Adjusted Passenger Count', 'Year', 'Month']\n",
    "df[scaled_columns] = scaler.fit_transform(df[scaled_columns]) # Changed 'df_encoded' to 'df'\n",
    "\n",
    "# 6. แบ่งข้อมูลสำหรับการฝึกโมเดล (Train-Test Split)\n",
    "X = df.drop(columns=['Passenger Count'])  # ฟีเจอร์ทั้งหมด ยกเว้นตัวแปรเป้าหมาย # Changed 'df_encoded' to 'df'\n",
    "y = df['Passenger Count']  # ตัวแปรเป้าหมาย # Changed 'df_encoded' to 'df'\n",
    "\n",
    "# แบ่งข้อมูลเป็นชุดฝึก (train) และทดสอบ (test) โดยใช้ 80% สำหรับการฝึก\n",
    "X_train, X_test, y_train, y_test = train_test_split(X, y, test_size=0.2, random_state=42)\n",
    "\n",
    "# ตรวจสอบขนาดของข้อมูลที่แบ่งออกมา\n",
    "print(f'Shape of X_train: {X_train.shape}')\n",
    "print(f'Shape of X_test: {X_test.shape}')\n",
    "print(f'Shape of y_train: {y_train.shape}')\n",
    "print(f'Shape of y_test: {y_test.shape}')"
   ],
   "id": "3742ae2993356e6",
   "outputs": [
    {
     "name": "stdout",
     "output_type": "stream",
     "text": [
      "Shape of X_train: (12005, 15)\n",
      "Shape of X_test: (3002, 15)\n",
      "Shape of y_train: (12005,)\n",
      "Shape of y_test: (3002,)\n"
     ]
    }
   ],
   "execution_count": 82
  },
  {
   "metadata": {
    "id": "81a2f88a4cecbe7e"
   },
   "cell_type": "markdown",
   "source": [
    "### Categorical Data Handling"
   ],
   "id": "81a2f88a4cecbe7e"
  },
  {
   "metadata": {
    "colab": {
     "base_uri": "https://localhost:8080/"
    },
    "id": "5363318d99f59339",
    "outputId": "bcd77ab5-4cd1-4253-eda5-68601468453d",
    "ExecuteTime": {
     "end_time": "2024-09-13T19:34:53.885359Z",
     "start_time": "2024-09-13T19:34:53.854043Z"
    }
   },
   "cell_type": "code",
   "source": [
    "# 4. ทำ One-Hot Encoding กับคอลัมน์เชิงประเภททั้งหมด\n",
    "df_encoded = pd.get_dummies(df, columns=categorical_columns, drop_first=True)\n",
    "\n",
    "\n",
    "# แสดงผลหลังการทำ One-Hot Encoding\n",
    "print(\"ข้อมูลหลังทำ One-Hot Encoding:\")\n",
    "print(df_encoded.head())\n"
   ],
   "id": "5363318d99f59339",
   "outputs": [
    {
     "name": "stdout",
     "output_type": "stream",
     "text": [
      "ข้อมูลหลังทำ One-Hot Encoding:\n",
      "  Activity Period  Passenger Count  Adjusted Passenger Count  Year     Month  \\\n",
      "0      2005-07-01         0.041328                  0.041328   0.0  0.545455   \n",
      "1      2005-07-01         0.044147                  0.044147   0.0  0.545455   \n",
      "2      2005-07-01         0.008205                  0.016412   0.0  0.545455   \n",
      "3      2005-07-01         0.053278                  0.053278   0.0  0.545455   \n",
      "4      2005-07-01         0.051663                  0.051663   0.0  0.545455   \n",
      "\n",
      "   Operating Airline_Aer Lingus  Operating Airline_Aeromexico  \\\n",
      "0                         False                         False   \n",
      "1                         False                         False   \n",
      "2                         False                         False   \n",
      "3                         False                         False   \n",
      "4                         False                         False   \n",
      "\n",
      "   Operating Airline_Air Berlin  Operating Airline_Air Canada   \\\n",
      "0                         False                          False   \n",
      "1                         False                          False   \n",
      "2                         False                          False   \n",
      "3                         False                           True   \n",
      "4                         False                           True   \n",
      "\n",
      "   Operating Airline_Air Canada Jazz  ...  Terminal_Terminal 3  \\\n",
      "0                              False  ...                False   \n",
      "1                              False  ...                False   \n",
      "2                              False  ...                False   \n",
      "3                              False  ...                False   \n",
      "4                              False  ...                False   \n",
      "\n",
      "   Boarding Area_B  Boarding Area_C  Boarding Area_D  Boarding Area_E  \\\n",
      "0             True            False            False            False   \n",
      "1             True            False            False            False   \n",
      "2             True            False            False            False   \n",
      "3             True            False            False            False   \n",
      "4             True            False            False            False   \n",
      "\n",
      "   Boarding Area_F  Boarding Area_G  Boarding Area_Other  \\\n",
      "0            False            False                False   \n",
      "1            False            False                False   \n",
      "2            False            False                False   \n",
      "3            False            False                False   \n",
      "4            False            False                False   \n",
      "\n",
      "   Adjusted Activity Type Code_Enplaned  \\\n",
      "0                                 False   \n",
      "1                                  True   \n",
      "2                                 False   \n",
      "3                                 False   \n",
      "4                                  True   \n",
      "\n",
      "   Adjusted Activity Type Code_Thru / Transit * 2  \n",
      "0                                           False  \n",
      "1                                           False  \n",
      "2                                            True  \n",
      "3                                           False  \n",
      "4                                           False  \n",
      "\n",
      "[5 rows x 308 columns]\n"
     ]
    }
   ],
   "execution_count": 83
  },
  {
   "metadata": {
    "id": "673e0d93513a84d3"
   },
   "cell_type": "markdown",
   "source": [
    "### Feature Engineering\n"
   ],
   "id": "673e0d93513a84d3"
  },
  {
   "metadata": {
    "colab": {
     "base_uri": "https://localhost:8080/"
    },
    "id": "5fa9173e837f7c3d",
    "outputId": "53b28437-f44c-4e08-9088-82de70cbf8ed",
    "ExecuteTime": {
     "end_time": "2024-09-13T19:34:54.013992Z",
     "start_time": "2024-09-13T19:34:53.973370Z"
    }
   },
   "cell_type": "code",
   "source": [
    "import pandas as pd\n",
    "\n",
    "# Assuming df is your original DataFrame with the data\n",
    "\n",
    "# 1. Convert 'Activity Period' to DateTime format and extract 'Year' and 'Month'\n",
    "df['Activity Period'] = pd.to_datetime(df['Activity Period'], format='%Y%m')\n",
    "df['Year'] = df['Activity Period'].dt.year\n",
    "df['Month'] = df['Activity Period'].dt.month\n",
    "\n",
    "# 2. Calculate 'Passenger Growth Rate'\n",
    "# Ensure there is a 'Passenger Count' column in your data\n",
    "df['Passenger Growth Rate'] = df['Passenger Count'].pct_change()\n",
    "\n",
    "# 3. Create a feature for High Season (Months: June, July, August)\n",
    "df['Is High Season'] = df['Month'].apply(lambda x: 1 if x in [6, 7, 8] else 0)\n",
    "\n",
    "# 4. Classify passengers into Low, Medium, and High based on Passenger Count\n",
    "# Create bins and labels for classification\n",
    "# 4. Classify passengers into Low, Medium, and High based on Passenger Count\n",
    "# Create bins and labels for classification\n",
    "bins = [0, 0.25, 0.75, 1.0]  # Adjust bins to reflect the scaled values\n",
    "labels = ['Low', 'Medium', 'High']\n",
    "df['Passenger Class'] = pd.cut(df['Passenger Count'], bins=bins, labels=labels, include_lowest=True)\n",
    "\n",
    "# 5. Perform One-Hot Encoding for categorical columns\n",
    "categorical_columns = ['Operating Airline', 'GEO Region', 'Price Category Code', 'Passenger Class']\n",
    "df_encoded = pd.get_dummies(df, columns=categorical_columns, drop_first=True)\n",
    "\n",
    "# 6. Display the first few rows of the resulting DataFrame\n",
    "print(df_encoded.head())\n"
   ],
   "id": "5fa9173e837f7c3d",
   "outputs": [
    {
     "name": "stdout",
     "output_type": "stream",
     "text": [
      "  Activity Period Operating Airline IATA Code Published Airline  \\\n",
      "0      2005-07-01                          TZ      ATA Airlines   \n",
      "1      2005-07-01                          TZ      ATA Airlines   \n",
      "2      2005-07-01                          TZ      ATA Airlines   \n",
      "3      2005-07-01                          AC       Air Canada    \n",
      "4      2005-07-01                          AC       Air Canada    \n",
      "\n",
      "  Published Airline IATA Code    GEO Summary Activity Type Code    Terminal  \\\n",
      "0                          TZ       Domestic           Deplaned  Terminal 1   \n",
      "1                          TZ       Domestic           Enplaned  Terminal 1   \n",
      "2                          TZ       Domestic     Thru / Transit  Terminal 1   \n",
      "3                          AC  International           Deplaned  Terminal 1   \n",
      "4                          AC  International           Enplaned  Terminal 1   \n",
      "\n",
      "  Boarding Area  Passenger Count Adjusted Activity Type Code  ...  \\\n",
      "0             B         0.041328                    Deplaned  ...   \n",
      "1             B         0.044147                    Enplaned  ...   \n",
      "2             B         0.008205          Thru / Transit * 2  ...   \n",
      "3             B         0.053278                    Deplaned  ...   \n",
      "4             B         0.051663                    Enplaned  ...   \n",
      "\n",
      "   GEO Region_Canada  GEO Region_Central America  GEO Region_Europe  \\\n",
      "0              False                       False              False   \n",
      "1              False                       False              False   \n",
      "2              False                       False              False   \n",
      "3               True                       False              False   \n",
      "4               True                       False              False   \n",
      "\n",
      "   GEO Region_Mexico  GEO Region_Middle East  GEO Region_South America  \\\n",
      "0              False                   False                     False   \n",
      "1              False                   False                     False   \n",
      "2              False                   False                     False   \n",
      "3              False                   False                     False   \n",
      "4              False                   False                     False   \n",
      "\n",
      "   GEO Region_US  Price Category Code_Other  Passenger Class_Medium  \\\n",
      "0           True                      False                   False   \n",
      "1           True                      False                   False   \n",
      "2           True                      False                   False   \n",
      "3          False                       True                   False   \n",
      "4          False                       True                   False   \n",
      "\n",
      "   Passenger Class_High  \n",
      "0                 False  \n",
      "1                 False  \n",
      "2                 False  \n",
      "3                 False  \n",
      "4                 False  \n",
      "\n",
      "[5 rows x 102 columns]\n"
     ]
    }
   ],
   "execution_count": 84
  },
  {
   "metadata": {
    "id": "3e1e4f30a31322fe"
   },
   "cell_type": "markdown",
   "source": [
    "### Data Splitting"
   ],
   "id": "3e1e4f30a31322fe"
  },
  {
   "metadata": {
    "colab": {
     "base_uri": "https://localhost:8080/"
    },
    "id": "de1604c6d52af042",
    "outputId": "c9162b5f-5331-4eed-fde8-72a761422fc5",
    "ExecuteTime": {
     "end_time": "2024-09-13T19:34:54.113478Z",
     "start_time": "2024-09-13T19:34:54.097094Z"
    }
   },
   "cell_type": "code",
   "source": [
    "from sklearn.model_selection import train_test_split\n",
    "\n",
    "# 1. กำหนดฟีเจอร์ (X) และตัวแปรเป้าหมาย (y)\n",
    "# ฟีเจอร์ X คือทุกคอลัมน์ ยกเว้น 'Passenger Count' ซึ่งเป็นตัวแปรเป้าหมาย\n",
    "X = df_encoded.drop(columns=['Passenger Count'])\n",
    "y = df_encoded['Passenger Count']\n",
    "\n",
    "# 2. แบ่งข้อมูลเป็นชุดฝึก (train) และชุดทดสอบ (test)\n",
    "# โดยใช้ 80% ของข้อมูลสำหรับการฝึก และ 20% สำหรับการทดสอบ\n",
    "X_train, X_test, y_train, y_test = train_test_split(X, y, test_size=0.2, random_state=42)\n",
    "\n",
    "# 3. ตรวจสอบขนาดของข้อมูลที่แบ่งออกมา\n",
    "print(f'Shape of X_train: {X_train.shape}')\n",
    "print(f'Shape of X_test: {X_test.shape}')\n",
    "print(f'Shape of y_train: {y_train.shape}')\n",
    "print(f'Shape of y_test: {y_test.shape}')\n"
   ],
   "id": "de1604c6d52af042",
   "outputs": [
    {
     "name": "stdout",
     "output_type": "stream",
     "text": [
      "Shape of X_train: (12005, 101)\n",
      "Shape of X_test: (3002, 101)\n",
      "Shape of y_train: (12005,)\n",
      "Shape of y_test: (3002,)\n"
     ]
    }
   ],
   "execution_count": 85
  },
  {
   "metadata": {
    "id": "220a8a4c630cb710"
   },
   "cell_type": "markdown",
   "source": [
    "### Model Selection\n",
    "\n",
    "#### Random Forest Regressor , TimeSeriesSplit"
   ],
   "id": "220a8a4c630cb710"
  },
  {
   "metadata": {
    "colab": {
     "base_uri": "https://localhost:8080/"
    },
    "id": "e3928dcfebf71d25",
    "outputId": "7a9284c4-3b51-488c-f09f-a2c8d01fff79",
    "ExecuteTime": {
     "end_time": "2024-09-13T19:34:56.950706Z",
     "start_time": "2024-09-13T19:34:54.215170Z"
    }
   },
   "cell_type": "code",
   "source": [
    "from sklearn.ensemble import GradientBoostingRegressor\n",
    "from sklearn.model_selection import TimeSeriesSplit\n",
    "from sklearn.impute import SimpleImputer\n",
    "from sklearn.preprocessing import StandardScaler\n",
    "from sklearn.metrics import mean_squared_error\n",
    "import numpy as np\n",
    "import pandas as pd\n",
    "\n",
    "# 1. สร้าง Gradient Boosting Regressor\n",
    "gbr_model = GradientBoostingRegressor(n_estimators=100, random_state=42)\n",
    "\n",
    "# เก็บค่า RMSE จากแต่ละ fold\n",
    "rmse_list = []\n",
    "\n",
    "# 2. ทำการฝึกโมเดลและทดสอบในแต่ละ fold ของ TimeSeriesSplit\n",
    "tscv = TimeSeriesSplit(n_splits=5)  # create TimeSeriesSplit object with the desired number of splits\n",
    "for train_index, test_index in tscv.split(X_train):\n",
    "    X_train_fold, X_test_fold = X_train.iloc[train_index], X_train.iloc[test_index]\n",
    "    y_train_fold, y_test_fold = y_train.iloc[train_index], y_train.iloc[test_index]\n",
    "\n",
    "    # Identify non-numeric columns and drop them\n",
    "    non_numeric_columns = X_train_fold.select_dtypes(exclude=['number']).columns\n",
    "    X_train_fold = X_train_fold.drop(columns=non_numeric_columns)\n",
    "    X_test_fold = X_test_fold.drop(columns=non_numeric_columns)\n",
    "\n",
    "    # Check for infinite values and replace them with NaN\n",
    "    X_train_fold.replace([np.inf, -np.inf], np.nan, inplace=True)\n",
    "    X_test_fold.replace([np.inf, -np.inf], np.nan, inplace=True)\n",
    "\n",
    "    # Check for very large values and cap them\n",
    "    large_value_threshold = 1e+15\n",
    "    X_train_fold = np.clip(X_train_fold, -large_value_threshold, large_value_threshold)\n",
    "    X_test_fold = np.clip(X_test_fold, -large_value_threshold, large_value_threshold)\n",
    "\n",
    "    # Handle NaN values by imputing using the mean\n",
    "    imputer = SimpleImputer(strategy='mean')\n",
    "    X_train_fold = imputer.fit_transform(X_train_fold)\n",
    "    X_test_fold = imputer.transform(X_test_fold)\n",
    "\n",
    "    # Standardize the data\n",
    "    scaler = StandardScaler()\n",
    "    X_train_fold = scaler.fit_transform(X_train_fold)\n",
    "    X_test_fold = scaler.transform(X_test_fold)\n",
    "\n",
    "    # Train the model with Gradient Boosting\n",
    "    gbr_model.fit(X_train_fold, y_train_fold)\n",
    "\n",
    "    # ทำนายผลลัพธ์และคำนวณ RMSE\n",
    "    y_pred_fold = gbr_model.predict(X_test_fold)\n",
    "    rmse = np.sqrt(mean_squared_error(y_test_fold, y_pred_fold))\n",
    "    rmse_list.append(rmse)\n",
    "\n",
    "# 5. แสดงค่าเฉลี่ย RMSE จากทุก fold\n",
    "mean_rmse = np.mean(rmse_list)\n",
    "print(f'ค่าเฉลี่ย RMSE จาก TimeSeriesSplit ด้วย Gradient Boosting: {mean_rmse}')\n"
   ],
   "id": "e3928dcfebf71d25",
   "outputs": [
    {
     "name": "stdout",
     "output_type": "stream",
     "text": [
      "ค่าเฉลี่ย RMSE จาก TimeSeriesSplit ด้วย Gradient Boosting: 0.0012551179708189097\n"
     ]
    }
   ],
   "execution_count": 86
  },
  {
   "metadata": {
    "id": "aa7913949772a217"
   },
   "cell_type": "markdown",
   "source": [
    "### Hyperparameter Tuning"
   ],
   "id": "aa7913949772a217"
  },
  {
   "metadata": {
    "colab": {
     "base_uri": "https://localhost:8080/"
    },
    "id": "f5dbccee3b447fee",
    "outputId": "ab9f1e3c-c85c-4e29-a6a1-120007c3460a",
    "ExecuteTime": {
     "end_time": "2024-09-13T19:35:47.911005Z",
     "start_time": "2024-09-13T19:34:57.041269Z"
    }
   },
   "cell_type": "code",
   "source": [
    "from sklearn.ensemble import RandomForestRegressor\n",
    "from sklearn.model_selection import GridSearchCV, TimeSeriesSplit\n",
    "from sklearn.metrics import mean_squared_error\n",
    "from sklearn.impute import SimpleImputer\n",
    "from sklearn.preprocessing import StandardScaler\n",
    "import numpy as np\n",
    "\n",
    "# กำหนดพารามิเตอร์ที่ต้องการค้นหาค่าเหมาะสม (Hyperparameters)\n",
    "param_grid = {\n",
    "    'n_estimators': [100, 200, 300],       # จำนวนต้นไม้\n",
    "    'max_depth': [None, 10, 20, 30],       # ความลึกของต้นไม้\n",
    "    'min_samples_split': [2, 5, 10]        # จำนวนขั้นต่ำของข้อมูลในแต่ละ node\n",
    "}\n",
    "\n",
    "# สร้างโมเดล RandomForestRegressor\n",
    "rf_model = RandomForestRegressor(random_state=42)\n",
    "\n",
    "# สร้าง TimeSeriesSplit\n",
    "tscv = TimeSeriesSplit(n_splits=5)\n",
    "\n",
    "# จัดการกับ NaN และ Scaling ข้อมูลก่อนการเทรนโมเดล\n",
    "non_numeric_columns = X_train.select_dtypes(exclude=['number']).columns\n",
    "X_train_clean = X_train.drop(columns=non_numeric_columns)\n",
    "\n",
    "# Replace infinite values with NaN\n",
    "X_train_clean.replace([np.inf, -np.inf], np.nan, inplace=True)\n",
    "\n",
    "# Cap very large values\n",
    "large_value_threshold = 1e+15\n",
    "X_train_clean = np.clip(X_train_clean, -large_value_threshold, large_value_threshold)\n",
    "\n",
    "# Impute NaN values\n",
    "imputer = SimpleImputer(strategy='mean')\n",
    "X_train_clean = imputer.fit_transform(X_train_clean)\n",
    "\n",
    "# Standardize the data\n",
    "scaler = StandardScaler()\n",
    "X_train_clean = scaler.fit_transform(X_train_clean)\n",
    "\n",
    "# สร้าง GridSearchCV เพื่อค้นหาพารามิเตอร์ที่ดีที่สุด\n",
    "grid_search = GridSearchCV(estimator=rf_model, param_grid=param_grid,\n",
    "                           scoring='neg_mean_squared_error', cv=tscv, verbose=2, n_jobs=-1)\n",
    "\n",
    "# ฝึก GridSearchCV\n",
    "grid_search.fit(X_train_clean, y_train)\n",
    "\n",
    "# แสดงผลลัพธ์ที่ดีที่สุด\n",
    "best_params = grid_search.best_params_\n",
    "print(f'พารามิเตอร์ที่ดีที่สุด: {best_params}')\n",
    "\n",
    "# ใช้พารามิเตอร์ที่ดีที่สุดในการทดสอบโมเดล\n",
    "best_rf_model = grid_search.best_estimator_\n",
    "\n",
    "# เตรียมข้อมูลทดสอบ\n",
    "X_test_clean = X_test.drop(columns=non_numeric_columns)\n",
    "\n",
    "# Replace infinite values in test data with NaN\n",
    "X_test_clean.replace([np.inf, -np.inf], np.nan, inplace=True)\n",
    "\n",
    "# Cap very large values in test data\n",
    "X_test_clean = np.clip(X_test_clean, -large_value_threshold, large_value_threshold)\n",
    "\n",
    "# Impute NaN values in test data\n",
    "X_test_clean = imputer.transform(X_test_clean)\n",
    "\n",
    "# Standardize the test data\n",
    "X_test_clean = scaler.transform(X_test_clean)\n",
    "\n",
    "# ทำนายผลลัพธ์\n",
    "y_pred = best_rf_model.predict(X_test_clean)\n",
    "\n",
    "# คำนวณ RMSE\n",
    "rmse = np.sqrt(mean_squared_error(y_test, y_pred))\n",
    "print(f'RMSE หลังจากทำ Hyperparameter Tuning: {rmse}')\n"
   ],
   "id": "f5dbccee3b447fee",
   "outputs": [
    {
     "name": "stdout",
     "output_type": "stream",
     "text": [
      "Fitting 5 folds for each of 36 candidates, totalling 180 fits\n",
      "พารามิเตอร์ที่ดีที่สุด: {'max_depth': 20, 'min_samples_split': 2, 'n_estimators': 100}\n",
      "RMSE หลังจากทำ Hyperparameter Tuning: 0.0015193901508224303\n"
     ]
    }
   ],
   "execution_count": 87
  },
  {
   "metadata": {
    "colab": {
     "base_uri": "https://localhost:8080/",
     "height": 333
    },
    "id": "183bb11681a5d01b",
    "outputId": "dde40881-ad45-4fb8-becd-695adf7fa2b8",
    "ExecuteTime": {
     "end_time": "2024-09-13T19:37:14.550629Z",
     "start_time": "2024-09-13T19:35:48.001482Z"
    }
   },
   "cell_type": "code",
   "source": [
    "from sklearn.linear_model import LogisticRegression\n",
    "from sklearn.ensemble import RandomForestClassifier\n",
    "from sklearn.svm import SVC\n",
    "from sklearn.neighbors import KNeighborsClassifier\n",
    "from sklearn.metrics import accuracy_score, precision_score, recall_score, f1_score, roc_auc_score\n",
    "from sklearn.model_selection import train_test_split, KFold\n",
    "from sklearn.impute import SimpleImputer\n",
    "import numpy as np\n",
    "import pandas as pd\n",
    "from tabulate import tabulate\n",
    "\n",
    "# Define classifiers\n",
    "classifiers = {\n",
    "    'Logistic Regression': LogisticRegression(max_iter=1000, n_jobs=-1),\n",
    "    'Random Forest': RandomForestClassifier(random_state=42, n_estimators=20, max_depth=10, n_jobs=-1),\n",
    "    'Support Vector Machine': SVC(probability=True),\n",
    "    'K-Nearest Neighbors': KNeighborsClassifier(n_jobs=-1)\n",
    "}\n",
    "\n",
    "# Function to train and evaluate models\n",
    "def train_and_evaluate_model(classifiers, X, y):\n",
    "    kf = KFold(n_splits=5, shuffle=True, random_state=42)\n",
    "\n",
    "    # Perform One-Hot Encoding on categorical columns\n",
    "    X_encoded = pd.get_dummies(X, drop_first=True)\n",
    "\n",
    "    # Convert 'Activity Period' to datetime and extract features\n",
    "    X_encoded['Activity Period'] = pd.to_datetime(X_encoded['Activity Period'], format='%Y%m')\n",
    "    X_encoded['Year'] = X_encoded['Activity Period'].dt.year\n",
    "    X_encoded['Month'] = X_encoded['Activity Period'].dt.month\n",
    "    X_encoded = X_encoded.drop(columns=['Activity Period'])\n",
    "\n",
    "\n",
    "    # Handle infinite and NaN values in the data\n",
    "    # Replace infinite values with NaN\n",
    "    X_encoded.replace([np.inf, -np.inf], np.nan, inplace=True)\n",
    "\n",
    "    # Cap large values (if applicable)\n",
    "    large_value_threshold = 1e+15\n",
    "    X_encoded = np.clip(X_encoded, -large_value_threshold, large_value_threshold)\n",
    "\n",
    "    # Impute missing values (NaNs) using the mean\n",
    "    imputer = SimpleImputer(strategy='mean')\n",
    "    X_encoded = imputer.fit_transform(X_encoded)\n",
    "\n",
    "    # Loop through each classifier\n",
    "    for name, clf in classifiers.items():\n",
    "        print(f'==================== {name} ====================')\n",
    "        all_metrics = []  # Store metrics for each fold\n",
    "\n",
    "        for fold, (train_index, test_index) in enumerate(kf.split(X_encoded), 1):\n",
    "            # Split the data into train and test for this fold\n",
    "            X_train, X_test = X_encoded[train_index], X_encoded[test_index]\n",
    "            y_train, y_test = y.iloc[train_index], y.iloc[test_index]\n",
    "\n",
    "            # Train the model\n",
    "            clf.fit(X_train, y_train)\n",
    "\n",
    "            # Make predictions\n",
    "            y_pred = clf.predict(X_test)\n",
    "\n",
    "            # Check if the model has predict_proba\n",
    "            if hasattr(clf, \"predict_proba\"):\n",
    "                y_pred_proba = clf.predict_proba(X_test)\n",
    "            else:\n",
    "                y_pred_proba = None  # No ROC-AUC score if predict_proba is not available\n",
    "\n",
    "            # Calculate metrics\n",
    "            accuracy = accuracy_score(y_test, y_pred)\n",
    "            precision = precision_score(y_test, y_pred, average='weighted', zero_division=0)\n",
    "            recall = recall_score(y_test, y_pred, average='weighted', zero_division=0)\n",
    "            f1 = f1_score(y_test, y_pred, average='weighted', zero_division=0)\n",
    "\n",
    "            if y_pred_proba is not None and len(set(y_test)) > 1:\n",
    "                # Use ROC-AUC for multiclass classification\n",
    "                roc_auc = roc_auc_score(y_test, y_pred_proba, multi_class='ovr')\n",
    "            else:\n",
    "                roc_auc = \"N/A\"\n",
    "\n",
    "            # Store metrics for this fold\n",
    "            all_metrics.append([fold, accuracy, precision, recall, f1, roc_auc])\n",
    "\n",
    "        # Print summary of metrics for all folds\n",
    "        print(tabulate(all_metrics, headers=[\"Fold\", \"Accuracy\", \"Precision\", \"Recall\", \"F1-score\", \"ROC-AUC\"], tablefmt=\"pretty\"))\n",
    "\n",
    "# Example of splitting the dataset (Assuming df is defined)\n",
    "# Define your feature set and target variable\n",
    "min_passenger_count = df['Passenger Count'].min()\n",
    "max_passenger_count = df['Passenger Count'].max()\n",
    "print(f'Minimum Passenger Count: {min_passenger_count}, Maximum Passenger Count: {max_passenger_count}')\n",
    "\n",
    "# Set bin ranges based on the actual passenger count values\n",
    "bins = [0, 0.33, 0.66, 1.0]  # Smaller bin ranges based on actual values\n",
    "labels = ['Low Fare', 'Other','High Fare']\n",
    "\n",
    "# Apply the binning to Passenger Count\n",
    "df['Passenger Class'] = pd.cut(df['Passenger Count'], bins=bins, labels=labels, include_lowest=True)\n",
    "\n",
    "# Now define X and y\n",
    "X = df.drop(columns=['Passenger Count', 'Passenger Class'])\n",
    "y = df['Passenger Class']\n",
    "\n",
    "# Call the function to train and evaluate models\n",
    "train_and_evaluate_model(classifiers, X, y)\n"
   ],
   "id": "183bb11681a5d01b",
   "outputs": [
    {
     "name": "stdout",
     "output_type": "stream",
     "text": [
      "Minimum Passenger Count: 0.0, Maximum Passenger Count: 0.9999999999999999\n",
      "==================== Logistic Regression ====================\n",
      "+------+--------------------+--------------------+--------------------+--------------------+--------------------+\n",
      "| Fold |      Accuracy      |     Precision      |       Recall       |      F1-score      |      ROC-AUC       |\n",
      "+------+--------------------+--------------------+--------------------+--------------------+--------------------+\n",
      "|  1   | 0.9976682211858761 | 0.9966221349509684 | 0.9976682211858761 | 0.9970780174366307 | 0.9983748661280695 |\n",
      "|  2   | 0.9976682211858761 | 0.9964826234640103 | 0.9976682211858761 | 0.997046413126613  | 0.9969418961693219 |\n",
      "|  3   | 0.9976674441852715 | 0.9969354477469259 | 0.9976674441852715 | 0.9972381485701279 | 0.9987098966195092 |\n",
      "|  4   | 0.9973342219260246 | 0.9966349245087319 | 0.9973342219260246 | 0.9969132538096808 | 0.9933335834330711 |\n",
      "|  5   | 0.9986671109630123 | 0.9980757587846304 | 0.9986671109630123 | 0.9983530922472537 | 0.9977950683745048 |\n",
      "+------+--------------------+--------------------+--------------------+--------------------+--------------------+\n",
      "==================== Random Forest ====================\n",
      "+------+--------------------+--------------------+--------------------+--------------------+--------------------+\n",
      "| Fold |      Accuracy      |     Precision      |       Recall       |      F1-score      |      ROC-AUC       |\n",
      "+------+--------------------+--------------------+--------------------+--------------------+--------------------+\n",
      "|  1   |        1.0         |        1.0         |        1.0         |        1.0         |        1.0         |\n",
      "|  2   | 0.9980013324450366 | 0.9980023528675459 | 0.9980013324450366 | 0.9977017875477305 | 0.9998932075120273 |\n",
      "|  3   | 0.9993335554815062 | 0.9993573570714523 | 0.9993335554815062 | 0.9991730029384145 | 0.9999566544008681 |\n",
      "|  4   | 0.9996667777407531 | 0.9996719843385539 | 0.9996667777407531 | 0.9996347674134868 | 0.9999153583224379 |\n",
      "|  5   | 0.9996667777407531 | 0.999671678068095  | 0.9996667777407531 | 0.999612474854061  |        1.0         |\n",
      "+------+--------------------+--------------------+--------------------+--------------------+--------------------+\n",
      "==================== Support Vector Machine ====================\n",
      "+------+--------------------+--------------------+--------------------+--------------------+--------------------+\n",
      "| Fold |      Accuracy      |     Precision      |       Recall       |      F1-score      |      ROC-AUC       |\n",
      "+------+--------------------+--------------------+--------------------+--------------------+--------------------+\n",
      "|  1   | 0.9816788807461693 | 0.9702091829114405 | 0.9816788807461693 | 0.9735585028800922 | 0.5690406876948825 |\n",
      "|  2   | 0.9790139906728847 | 0.9749374916055072 | 0.9790139906728847 | 0.9703379115600924 | 0.483293235702077  |\n",
      "|  3   | 0.9810063312229257 | 0.9623734218994645 | 0.9810063312229257 | 0.9716005514281896 | 0.5773356674663249 |\n",
      "|  4   | 0.9780073308897035 | 0.956498339274002  | 0.9780073308897035 | 0.9671332601621563 | 0.6436361642424723 |\n",
      "|  5   | 0.9766744418527158 | 0.9545364878373875 | 0.9766744418527158 | 0.9654785783925026 | 0.7943381709279557 |\n",
      "+------+--------------------+--------------------+--------------------+--------------------+--------------------+\n",
      "==================== K-Nearest Neighbors ====================\n",
      "+------+--------------------+--------------------+--------------------+--------------------+--------------------+\n",
      "| Fold |      Accuracy      |     Precision      |       Recall       |      F1-score      |      ROC-AUC       |\n",
      "+------+--------------------+--------------------+--------------------+--------------------+--------------------+\n",
      "|  1   | 0.991672218520986  | 0.9915418824895982 | 0.991672218520986  | 0.9913011664321331 |  0.99131811257406  |\n",
      "|  2   | 0.9906728847435043 | 0.9888686827506221 | 0.9906728847435043 | 0.9896699401809204 |  0.92344584010347  |\n",
      "|  3   | 0.9913362212595801 | 0.9914876029883837 | 0.9913362212595801 | 0.991376940785082  | 0.9394444900055626 |\n",
      "|  4   | 0.9913362212595801 | 0.9913362212595801 | 0.9913362212595801 | 0.9913362212595801 | 0.9319249364973947 |\n",
      "|  5   | 0.9903365544818394 | 0.9897536620227387 | 0.9903365544818394 |  0.98980340264636  | 0.9000444419994406 |\n",
      "+------+--------------------+--------------------+--------------------+--------------------+--------------------+\n"
     ]
    }
   ],
   "execution_count": 88
  },
  {
   "metadata": {
    "colab": {
     "base_uri": "https://localhost:8080/",
     "height": 207
    },
    "id": "be25a115475cad4c",
    "outputId": "b5b91390-cc31-44e6-c01c-16480cf13e5f",
    "ExecuteTime": {
     "end_time": "2024-09-13T19:41:27.685360Z",
     "start_time": "2024-09-13T19:41:27.352720Z"
    }
   },
   "cell_type": "code",
   "source": [
    "import pandas as pd\n",
    "import numpy as np\n",
    "from sklearn.ensemble import RandomForestClassifier\n",
    "from sklearn.impute import SimpleImputer\n",
    "\n",
    "# สร้างโมเดล Random Forest\n",
    "best_model = RandomForestClassifier(random_state=42, n_estimators=20, max_depth=10, n_jobs=-1)\n",
    "\n",
    "# ข้อมูลที่ใช้ฝึกโมเดล (df เป็น DataFrame ที่มีข้อมูล)\n",
    "print(df.dtypes)\n",
    "\n",
    "# แปลง 'Activity Period' เป็นปีและเดือน (ถ้ามี)\n",
    "if 'Activity Period' in df.columns:\n",
    "    df['Year'] = pd.to_datetime(df['Activity Period'], format='%Y%m').dt.year\n",
    "    df['Month'] = pd.to_datetime(df['Activity Period'], format='%Y%m').dt.month\n",
    "    df = df.drop(columns=['Activity Period'])\n",
    "\n",
    "# กำหนดเป้าหมาย y และฟีเจอร์ X\n",
    "X = df.drop(columns=['Passenger Count', 'Passenger Class'])\n",
    "y = df['Passenger Class']\n",
    "\n",
    "# ทำ One-Hot Encoding สำหรับคอลัมน์ที่เป็นหมวดหมู่\n",
    "X_encoded = pd.get_dummies(X, drop_first=True)\n",
    "\n",
    "# เก็บชื่อคอลัมน์ก่อนทำ Imputation\n",
    "columns = X_encoded.columns\n",
    "\n",
    "# จัดการกับค่าที่เป็น infinity\n",
    "X_encoded.replace([np.inf, -np.inf], np.nan, inplace=True)\n",
    "\n",
    "# ทำ Imputation เพื่อจัดการกับค่าที่ขาดหาย (NaN)\n",
    "imputer = SimpleImputer(strategy='mean')\n",
    "X_encoded = imputer.fit_transform(X_encoded)\n",
    "\n",
    "# แปลงกลับมาเป็น DataFrame\n",
    "X_encoded = pd.DataFrame(X_encoded, columns=columns)\n",
    "\n",
    "# ฝึกโมเดล Random Forest\n",
    "best_model.fit(X_encoded, y)\n",
    "\n",
    "# เตรียมข้อมูลใหม่สำหรับการทำนาย\n",
    "new_data = pd.DataFrame({\n",
    "    'Operating Airline': ['ATA Airlines', 'ExpressJet Airlines', 'Allegiant Air'],\n",
    "    'GEO Region': ['US', 'US', 'US'],\n",
    "    'Price Category Code': ['Low Fare', 'Other', 'Low Fare'],\n",
    "    'Year': [2005, 2007, 2008],\n",
    "    'Month': [7, 9, 10],\n",
    "    # ฟีเจอร์อื่น ๆ ที่คุณมีในข้อมูลฝึก\n",
    "})\n",
    "\n",
    "# ทำ One-Hot Encoding ข้อมูลใหม่\n",
    "X_new_encoded = pd.get_dummies(new_data, drop_first=True)\n",
    "\n",
    "# ตรวจสอบว่ามีคอลัมน์ที่ขาดหายไปหรือไม่\n",
    "missing_cols = list(set(columns) - set(X_new_encoded.columns))\n",
    "\n",
    "# สร้าง DataFrame สำหรับคอลัมน์ที่ขาดและเพิ่มเข้าไปในข้อมูลใหม่\n",
    "if missing_cols:\n",
    "    missing_cols_df = pd.DataFrame(0, index=X_new_encoded.index, columns=missing_cols)\n",
    "    X_new_encoded = pd.concat([X_new_encoded, missing_cols_df], axis=1)\n",
    "\n",
    "# เรียงลำดับคอลัมน์ให้ตรงกับข้อมูลฝึก\n",
    "X_new_encoded = X_new_encoded[columns]\n",
    "\n",
    "# ทำ Imputation ข้อมูลใหม่\n",
    "X_new_encoded = imputer.transform(X_new_encoded)\n",
    "\n",
    "# แปลงข้อมูลกลับเป็น DataFrame และใส่ชื่อคอลัมน์\n",
    "X_new_encoded = pd.DataFrame(X_new_encoded, columns=columns)\n",
    "\n",
    "# ทำนายผล\n",
    "y_pred_new = best_model.predict(X_new_encoded)\n",
    "\n",
    "# แสดงผลการทำนาย\n",
    "print(\"ผลการทำนาย:\", y_pred_new)\n",
    "\n",
    "# สมมุติว่า y_true ควรมี 3 ตัวอย่างที่ตรงกับค่าทำนาย\n",
    "y_true = ['Low Fare', 'Other', 'Low Fare']  # ค่าที่คาดหวังต้องตรงกับประเภทของค่าที่โมเดลทำนายได้\n",
    "# คำนวณประสิทธิภาพ\n",
    "accuracy = accuracy_score(y_true, y_pred_new)\n",
    "precision = precision_score(y_true, y_pred_new, average='weighted', zero_division=0)\n",
    "recall = recall_score(y_true, y_pred_new, average='weighted', zero_division=0)\n",
    "f1 = f1_score(y_true, y_pred_new, average='weighted', zero_division=0)\n",
    "\n",
    "# แสดงผลลัพธ์\n",
    "print(f\"Accuracy: {accuracy}\")\n",
    "print(f\"Precision: {precision}\")\n",
    "print(f\"Recall: {recall}\")\n",
    "print(f\"F1-Score: {f1}\")\n"
   ],
   "id": "be25a115475cad4c",
   "outputs": [
    {
     "name": "stdout",
     "output_type": "stream",
     "text": [
      "Operating Airline                object\n",
      "Operating Airline IATA Code      object\n",
      "Published Airline                object\n",
      "Published Airline IATA Code      object\n",
      "GEO Summary                      object\n",
      "GEO Region                       object\n",
      "Activity Type Code               object\n",
      "Price Category Code              object\n",
      "Terminal                         object\n",
      "Boarding Area                    object\n",
      "Passenger Count                 float64\n",
      "Adjusted Activity Type Code      object\n",
      "Adjusted Passenger Count        float64\n",
      "Year                              int32\n",
      "Month                             int32\n",
      "Passenger Growth Rate           float64\n",
      "Is High Season                    int64\n",
      "Passenger Class                category\n",
      "dtype: object\n",
      "ผลการทำนาย: ['Low Fare' 'Low Fare' 'Low Fare']\n",
      "Accuracy: 0.6666666666666666\n",
      "Precision: 0.4444444444444444\n",
      "Recall: 0.6666666666666666\n",
      "F1-Score: 0.5333333333333333\n"
     ]
    }
   ],
   "execution_count": 95
  },
  {
   "metadata": {
    "ExecuteTime": {
     "end_time": "2024-09-13T19:41:33.600749Z",
     "start_time": "2024-09-13T19:41:33.279739Z"
    }
   },
   "cell_type": "code",
   "source": [
    "# ลองเพิ่มจำนวนต้นไม้และความลึกของต้นไม้\n",
    "best_model = RandomForestClassifier(random_state=42, n_estimators=100, max_depth=20, n_jobs=-1)\n",
    "best_model.fit(X_encoded, y)\n",
    "\n",
    "# ตรวจสอบว่ามีฟีเจอร์ใดขาดหายไปในข้อมูลใหม่และสร้างคอลัมน์ที่ขาดหาย\n",
    "missing_cols = list(set(columns) - set(X_new_encoded.columns))\n",
    "\n",
    "# สร้าง DataFrame สำหรับคอลัมน์ที่ขาดและเพิ่มเข้าไปในข้อมูลใหม่\n",
    "if missing_cols:\n",
    "    missing_cols_df = pd.DataFrame(0, index=X_new_encoded.index, columns=missing_cols)\n",
    "    X_new_encoded = pd.concat([X_new_encoded, missing_cols_df], axis=1)\n",
    "\n",
    "# เรียงลำดับคอลัมน์ให้ตรงกับข้อมูลฝึก\n",
    "X_new_encoded = X_new_encoded[columns]\n",
    "\n",
    "# ทำ Imputation ข้อมูลใหม่\n",
    "X_new_encoded = imputer.transform(X_new_encoded)\n",
    "\n",
    "# แปลงข้อมูลกลับเป็น DataFrame และใส่ชื่อคอลัมน์\n",
    "X_new_encoded = pd.DataFrame(X_new_encoded, columns=columns)\n",
    "\n",
    "# ทำนายผล\n",
    "y_pred_new = best_model.predict(X_new_encoded)\n",
    "\n",
    "# แสดงผลการทำนาย\n",
    "print(\"ผลการทำนาย:\", y_pred_new)\n",
    "\n",
    "# ใช้เพียงแค่ตัวอย่างแรกจากการทำนาย\n",
    "y_pred_new_encoded_single = [y_pred_new_encoded[0]]\n",
    "\n",
    "# สมมุติว่า y_true ควรมี 3 ตัวอย่างที่ตรงกับค่าทำนาย\n",
    "y_true = ['Low Fare', 'Other','Low Fare' ]  # ค่าที่คาดหวังต้องตรงกับประเภทของค่าที่โมเดลทำนายได้\n",
    "\n",
    "# คำนวณประสิทธิภาพ\n",
    "accuracy = accuracy_score(y_true, y_pred_new)\n",
    "precision = precision_score(y_true, y_pred_new, average='weighted', zero_division=0)\n",
    "recall = recall_score(y_true, y_pred_new, average='weighted', zero_division=0)\n",
    "f1 = f1_score(y_true, y_pred_new, average='weighted', zero_division=0)\n",
    "\n",
    "# แสดงผลลัพธ์\n",
    "print(f\"Accuracy: {accuracy}\")\n",
    "print(f\"Precision: {precision}\")\n",
    "print(f\"Recall: {recall}\")\n",
    "print(f\"F1-Score: {f1}\")\n",
    "\n",
    "\n"
   ],
   "id": "f61659fbd6bc581f",
   "outputs": [
    {
     "name": "stdout",
     "output_type": "stream",
     "text": [
      "ผลการทำนาย: ['Low Fare' 'Low Fare' 'Low Fare']\n",
      "Accuracy: 0.6666666666666666\n",
      "Precision: 0.4444444444444444\n",
      "Recall: 0.6666666666666666\n",
      "F1-Score: 0.5333333333333333\n"
     ]
    }
   ],
   "execution_count": 96
  },
  {
   "metadata": {
    "id": "459d8031d7394eda",
    "ExecuteTime": {
     "end_time": "2024-09-13T19:42:37.720919Z",
     "start_time": "2024-09-13T19:42:14.564407Z"
    }
   },
   "cell_type": "code",
   "source": [
    "from sklearn.model_selection import GridSearchCV\n",
    "\n",
    "param_grid = {\n",
    "    'n_estimators': [50, 100, 200],\n",
    "    'max_depth': [10, 20, 30]\n",
    "}\n",
    "\n",
    "grid_search = GridSearchCV(estimator=RandomForestClassifier(random_state=42),\n",
    "                           param_grid=param_grid, cv=5, scoring='accuracy')\n",
    "\n",
    "grid_search.fit(X_encoded, y)\n",
    "print(f\"พารามิเตอร์ที่ดีที่สุด: {grid_search.best_params_}\")\n"
   ],
   "id": "459d8031d7394eda",
   "outputs": [
    {
     "name": "stdout",
     "output_type": "stream",
     "text": [
      "พารามิเตอร์ที่ดีที่สุด: {'max_depth': 10, 'n_estimators': 50}\n"
     ]
    }
   ],
   "execution_count": 97
  },
  {
   "metadata": {
    "id": "49691d26834feb60"
   },
   "cell_type": "markdown",
   "source": [
    "### Save the model"
   ],
   "id": "49691d26834feb60"
  },
  {
   "metadata": {
    "ExecuteTime": {
     "end_time": "2024-09-13T19:44:25.097165Z",
     "start_time": "2024-09-13T19:44:24.000215Z"
    }
   },
   "cell_type": "code",
   "outputs": [
    {
     "name": "stdout",
     "output_type": "stream",
     "text": [
      "โมเดลและ preprocessing objects ถูกบันทึกเรียบร้อยแล้ว!\n"
     ]
    }
   ],
   "execution_count": 100,
   "source": [
    "import pandas as pd\n",
    "import numpy as np\n",
    "from sklearn.ensemble import RandomForestClassifier\n",
    "from sklearn.impute import SimpleImputer\n",
    "import joblib\n",
    "\n",
    "# สมมุติว่าคุณมีโมเดล RandomForest ที่ผ่านการฝึกแล้ว\n",
    "model = RandomForestClassifier(random_state=42, n_estimators=100, max_depth=20)\n",
    "\n",
    "# ถ้ามีคอลัมน์ 'Activity Period' ที่เป็น datetime ให้แปลงเป็นตัวเลข (ปีและเดือน)\n",
    "if 'Activity Period' in df.columns:\n",
    "    df['Year'] = pd.to_datetime(df['Activity Period'], format='%Y%m').dt.year\n",
    "    df['Month'] = pd.to_datetime(df['Activity Period'], format='%Y%m').dt.month\n",
    "    df = df.drop(columns=['Activity Period'])  # ลบคอลัมน์ Activity Period หลังแปลงแล้ว\n",
    "\n",
    "# ตั้งค่าเป้าหมาย y (เช่น 'Passenger Class') และฟีเจอร์ X (ไม่รวมเป้าหมาย)\n",
    "X = df.drop(columns=['Passenger Count', 'Passenger Class'])\n",
    "y = df['Passenger Class']\n",
    "\n",
    "# ทำ One-Hot Encoding สำหรับคอลัมน์เชิงหมวดหมู่\n",
    "X_encoded = pd.get_dummies(X, drop_first=True)\n",
    "\n",
    "# เก็บชื่อคอลัมน์ก่อนทำ Imputation\n",
    "columns = X_encoded.columns\n",
    "\n",
    "# ตรวจสอบและจัดการค่าที่เป็น infinite values (ถ้ามี)\n",
    "X_encoded.replace([np.inf, -np.inf], np.nan, inplace=True)\n",
    "\n",
    "# ทำ Imputation ค่าที่ขาดหาย (NaN) ด้วยค่าเฉลี่ย\n",
    "imputer = SimpleImputer(strategy='mean')\n",
    "X_encoded = imputer.fit_transform(X_encoded)\n",
    "\n",
    "# แปลงกลับเป็น DataFrame เพื่อให้จัดการง่ายขึ้น\n",
    "X_encoded = pd.DataFrame(X_encoded, columns=columns)\n",
    "\n",
    "# ฝึกโมเดล Random Forest ด้วยข้อมูลทั้งหมด\n",
    "model.fit(X_encoded, y)\n",
    "\n",
    "# บันทึกโมเดลที่ฝึกแล้ว\n",
    "joblib.dump(model, \"best.pkl\")\n",
    "joblib.dump(imputer, \"imputer.pkl\")\n",
    "joblib.dump(columns, \"columns.pkl\")\n",
    "\n",
    "print(\"โมเดลและ preprocessing objects ถูกบันทึกเรียบร้อยแล้ว!\")\n"
   ],
   "id": "6d064a6d6030d8ce"
  }
 ],
 "metadata": {
  "kernelspec": {
   "display_name": "Python 3",
   "language": "python",
   "name": "python3"
  },
  "language_info": {
   "codemirror_mode": {
    "name": "ipython",
    "version": 2
   },
   "file_extension": ".py",
   "mimetype": "text/x-python",
   "name": "python",
   "nbconvert_exporter": "python",
   "pygments_lexer": "ipython2",
   "version": "2.7.6"
  },
  "colab": {
   "provenance": []
  }
 },
 "nbformat": 4,
 "nbformat_minor": 5
}
